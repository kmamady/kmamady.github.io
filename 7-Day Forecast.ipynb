{
 "cells": [
  {
   "cell_type": "code",
   "execution_count": null,
   "id": "679b82fa-c5b3-46d0-9f8a-25a219df2516",
   "metadata": {
    "tags": []
   },
   "outputs": [],
   "source": [
    "import pandas as pd\n",
    "import requests\n",
    "import datetime\n",
    "from datetime import datetime\n",
    "from IPython.display import display, HTML, Image\n",
    "from ipywidgets import interact_manual\n",
    "\n",
    "def geocode(location):\n",
    "    query_string = {'q': location, 'format': 'json'}\n",
    "    url = 'https://nominatim.openstreetmap.org/search'\n",
    "    response = requests.get(url, params = query_string)\n",
    "    response.raise_for_status ()\n",
    "    geodata = response.json ()\n",
    "    return geodata\n",
    "\n",
    "def getweather(lat, lon):\n",
    "    apikey = '67f9d45c32dd086df27f2b7a90370a8e'\n",
    "    url = 'https://api.openweathermap.org/data/2.5/onecall'\n",
    "    query_string = {'lat' : lat, 'lon' : lon, 'appid' : apikey, 'units' : 'imperial'}\n",
    "    response = requests.get(url, params= query_string)\n",
    "    response.raise_for_status()\n",
    "    weather = response.json()\n",
    "    return weather\n",
    "\n",
    "#Write Interact input location\n",
    "display(HTML(\"<h2>Get 7-Day Forecast</h2>\"))\n",
    "@interact_manual(location = \"\")\n",
    "def get7dayforcast(location):\n",
    "    geodata = geocode(location)\n",
    "    lat, lon = geodata[0]['lat'], geodata[0]['lon']\n",
    "    weather = getweather(lat,lon)\n",
    "    temp = weather['current']['temp']\n",
    "    conditions = weather['current']['weather'][0]['description']\n",
    "    display(HTML(f\"<h2> Current Weather for {location}</h2>\"))\n",
    "    display(HTML(f\"<p>The conditions are {conditions} with a Temperature of {temp} Deg F.\"))\n",
    "    icon = weather['current']['weather'][0]['icon']\n",
    "    iconurl = f'https://openweathermap.org/img/wn/{icon}@2x.png'\n",
    "    display(Image(url = iconurl))\n",
    "    daily_df = pd.DataFrame(weather['daily'])\n",
    "    display(HTML(f\"<h2> 7-Day Forecast for {location}</h2>\"))   \n",
    "    flat_daily_df = pd.json_normalize(weather['daily'])\n",
    "    seven_day_df = flat_daily_df[['dt', 'temp.min', 'temp.max']]\n",
    "    seven_day_df = seven_day_df.rename(columns={'dt': 'Day', 'temp.min': 'Low', 'temp.max': 'High'})\n",
    "    display(seven_day_df)"
   ]
  },
  {
   "cell_type": "code",
   "execution_count": null,
   "id": "f41f58e9-9ee3-40f3-8e12-5d2319786cfe",
   "metadata": {},
   "outputs": [],
   "source": []
  }
 ],
 "metadata": {
  "kernelspec": {
   "display_name": "Python 3 (ipykernel)",
   "language": "python",
   "name": "python3"
  },
  "language_info": {
   "codemirror_mode": {
    "name": "ipython",
    "version": 3
   },
   "file_extension": ".py",
   "mimetype": "text/x-python",
   "name": "python",
   "nbconvert_exporter": "python",
   "pygments_lexer": "ipython3",
   "version": "3.11.3"
  }
 },
 "nbformat": 4,
 "nbformat_minor": 5
}
